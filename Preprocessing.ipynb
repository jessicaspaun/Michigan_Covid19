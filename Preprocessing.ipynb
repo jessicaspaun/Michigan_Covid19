{
 "cells": [
  {
   "cell_type": "code",
   "execution_count": 4,
   "metadata": {},
   "outputs": [],
   "source": [
    "import pandas as pd\n",
    "import numpy as np"
   ]
  },
  {
   "cell_type": "code",
   "execution_count": 17,
   "metadata": {},
   "outputs": [],
   "source": [
    "deaths = pd.read_excel(r\"Cases_and_Deaths_by_County_2020-09-11_702087_7.xlsx\")\n",
    "county = pd.read_excel(r\"Cases_by_County_and_Date_2020-09-11_702090_7.xlsx\")\n",
    "demographics = pd.read_excel(r\"Cases_by_Demographics_Statewide_2020-09-11_702092_7.xlsx\")\n",
    "tests = pd.read_excel(r\"Covid-19_Tests_by_County_2020-09-11_702093_7.xlsx\")\n",
    "diagnostic = pd.read_excel(r\"Diagnostic_Tests_by_Result_and_County_2020-09-11_702094_7.xlsx\")\n",
    "population = pd.read_excel(r\"Population_County.xlsx\")"
   ]
  },
  {
   "cell_type": "code",
   "execution_count": 18,
   "metadata": {},
   "outputs": [
    {
     "data": {
      "text/html": [
       "<div>\n",
       "<style scoped>\n",
       "    .dataframe tbody tr th:only-of-type {\n",
       "        vertical-align: middle;\n",
       "    }\n",
       "\n",
       "    .dataframe tbody tr th {\n",
       "        vertical-align: top;\n",
       "    }\n",
       "\n",
       "    .dataframe thead th {\n",
       "        text-align: right;\n",
       "    }\n",
       "</style>\n",
       "<table border=\"1\" class=\"dataframe\">\n",
       "  <thead>\n",
       "    <tr style=\"text-align: right;\">\n",
       "      <th></th>\n",
       "      <th>COUNTY</th>\n",
       "      <th>CASE_STATUS</th>\n",
       "      <th>Cases</th>\n",
       "      <th>Deaths</th>\n",
       "      <th>Updated</th>\n",
       "    </tr>\n",
       "  </thead>\n",
       "  <tbody>\n",
       "    <tr>\n",
       "      <th>0</th>\n",
       "      <td>Alcona</td>\n",
       "      <td>Confirmed</td>\n",
       "      <td>33</td>\n",
       "      <td>2</td>\n",
       "      <td>2020-09-11 14:11:24.584</td>\n",
       "    </tr>\n",
       "    <tr>\n",
       "      <th>1</th>\n",
       "      <td>Alcona</td>\n",
       "      <td>Probable</td>\n",
       "      <td>7</td>\n",
       "      <td>0</td>\n",
       "      <td>2020-09-11 14:11:24.584</td>\n",
       "    </tr>\n",
       "    <tr>\n",
       "      <th>2</th>\n",
       "      <td>Alger</td>\n",
       "      <td>Confirmed</td>\n",
       "      <td>16</td>\n",
       "      <td>0</td>\n",
       "      <td>2020-09-11 14:11:24.584</td>\n",
       "    </tr>\n",
       "    <tr>\n",
       "      <th>3</th>\n",
       "      <td>Alger</td>\n",
       "      <td>Probable</td>\n",
       "      <td>1</td>\n",
       "      <td>0</td>\n",
       "      <td>2020-09-11 14:11:24.584</td>\n",
       "    </tr>\n",
       "    <tr>\n",
       "      <th>4</th>\n",
       "      <td>Allegan</td>\n",
       "      <td>Confirmed</td>\n",
       "      <td>613</td>\n",
       "      <td>7</td>\n",
       "      <td>2020-09-11 14:11:24.584</td>\n",
       "    </tr>\n",
       "  </tbody>\n",
       "</table>\n",
       "</div>"
      ],
      "text/plain": [
       "    COUNTY CASE_STATUS  Cases  Deaths                 Updated\n",
       "0   Alcona   Confirmed     33       2 2020-09-11 14:11:24.584\n",
       "1   Alcona    Probable      7       0 2020-09-11 14:11:24.584\n",
       "2    Alger   Confirmed     16       0 2020-09-11 14:11:24.584\n",
       "3    Alger    Probable      1       0 2020-09-11 14:11:24.584\n",
       "4  Allegan   Confirmed    613       7 2020-09-11 14:11:24.584"
      ]
     },
     "execution_count": 18,
     "metadata": {},
     "output_type": "execute_result"
    }
   ],
   "source": [
    "deaths.head()"
   ]
  },
  {
   "cell_type": "code",
   "execution_count": null,
   "metadata": {},
   "outputs": [],
   "source": []
  }
 ],
 "metadata": {
  "kernelspec": {
   "display_name": "Python 3",
   "language": "python",
   "name": "python3"
  },
  "language_info": {
   "codemirror_mode": {
    "name": "ipython",
    "version": 3
   },
   "file_extension": ".py",
   "mimetype": "text/x-python",
   "name": "python",
   "nbconvert_exporter": "python",
   "pygments_lexer": "ipython3",
   "version": "3.6.5"
  }
 },
 "nbformat": 4,
 "nbformat_minor": 2
}
